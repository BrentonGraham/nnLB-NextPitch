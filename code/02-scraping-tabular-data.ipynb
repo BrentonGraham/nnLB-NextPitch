{
 "cells": [
  {
   "cell_type": "code",
   "execution_count": 1,
   "id": "1358f5cb",
   "metadata": {},
   "outputs": [],
   "source": [
    "import os\n",
    "import pandas as pd\n",
    "import json\n",
    "from utils.tabular_scraping import get_savant_tabular_data"
   ]
  },
  {
   "cell_type": "markdown",
   "id": "48db7278",
   "metadata": {},
   "source": [
    "# Background\n",
    "\n",
    "In this notebook we webscrape the tabular data associated with each video that will be used in this project. Tabular data, in contrast to video data, refers to the situational data related to each pitch. For example, the inning, the number of outs, the number of runners on base, etc. We don't necessarily *need* to webscrape these files since they are stored as CSVs and are easily downloadable from baseball savant. However, this script allows us to assign appropriate play IDs to each pitch which we can use to link tabular data to video data."
   ]
  },
  {
   "cell_type": "code",
   "execution_count": 2,
   "id": "cec5d3a4",
   "metadata": {},
   "outputs": [],
   "source": [
    "# Open saved player information file\n",
    "f = open('../data/video-url-json/NNextPitchURLs.json')\n",
    "player_info_dict = json.load(f)"
   ]
  },
  {
   "cell_type": "code",
   "execution_count": 3,
   "id": "5de0c0f0",
   "metadata": {},
   "outputs": [
    {
     "name": "stdout",
     "output_type": "stream",
     "text": [
      "Opening webpage for player ID 477132...\n",
      "\n"
     ]
    },
    {
     "name": "stderr",
     "output_type": "stream",
     "text": [
      "[WDM] - ====== WebDriver manager ======\n"
     ]
    },
    {
     "name": "stdout",
     "output_type": "stream",
     "text": [
      "2023-03-08 16:56:32,661 INFO ====== WebDriver manager ======\n"
     ]
    },
    {
     "name": "stderr",
     "output_type": "stream",
     "text": [
      "[WDM] - Current google-chrome version is 110.0.5481\n"
     ]
    },
    {
     "name": "stdout",
     "output_type": "stream",
     "text": [
      "2023-03-08 16:56:32,747 INFO Current google-chrome version is 110.0.5481\n"
     ]
    },
    {
     "name": "stderr",
     "output_type": "stream",
     "text": [
      "[WDM] - Get LATEST chromedriver version for 110.0.5481 google-chrome\n"
     ]
    },
    {
     "name": "stdout",
     "output_type": "stream",
     "text": [
      "2023-03-08 16:56:32,748 INFO Get LATEST chromedriver version for 110.0.5481 google-chrome\n"
     ]
    },
    {
     "name": "stderr",
     "output_type": "stream",
     "text": [
      "[WDM] - Driver [/Users/bgraham/.wdm/drivers/chromedriver/mac64/110.0.5481.77/chromedriver] found in cache\n"
     ]
    },
    {
     "name": "stdout",
     "output_type": "stream",
     "text": [
      "2023-03-08 16:56:32,889 INFO Driver [/Users/bgraham/.wdm/drivers/chromedriver/mac64/110.0.5481.77/chromedriver] found in cache\n",
      "Downloading tabular file...\n",
      "Getting play IDs...\n",
      "Successfully added play IDs. Outputting updated CSV file...\n",
      "Opening webpage for player ID 621111...\n",
      "\n"
     ]
    },
    {
     "name": "stderr",
     "output_type": "stream",
     "text": [
      "[WDM] - ====== WebDriver manager ======\n"
     ]
    },
    {
     "name": "stdout",
     "output_type": "stream",
     "text": [
      "2023-03-08 16:57:26,833 INFO ====== WebDriver manager ======\n"
     ]
    },
    {
     "name": "stderr",
     "output_type": "stream",
     "text": [
      "[WDM] - Current google-chrome version is 110.0.5481\n"
     ]
    },
    {
     "name": "stdout",
     "output_type": "stream",
     "text": [
      "2023-03-08 16:57:26,889 INFO Current google-chrome version is 110.0.5481\n"
     ]
    },
    {
     "name": "stderr",
     "output_type": "stream",
     "text": [
      "[WDM] - Get LATEST chromedriver version for 110.0.5481 google-chrome\n"
     ]
    },
    {
     "name": "stdout",
     "output_type": "stream",
     "text": [
      "2023-03-08 16:57:26,890 INFO Get LATEST chromedriver version for 110.0.5481 google-chrome\n"
     ]
    },
    {
     "name": "stderr",
     "output_type": "stream",
     "text": [
      "[WDM] - Driver [/Users/bgraham/.wdm/drivers/chromedriver/mac64/110.0.5481.77/chromedriver] found in cache\n"
     ]
    },
    {
     "name": "stdout",
     "output_type": "stream",
     "text": [
      "2023-03-08 16:57:26,997 INFO Driver [/Users/bgraham/.wdm/drivers/chromedriver/mac64/110.0.5481.77/chromedriver] found in cache\n",
      "Downloading tabular file...\n",
      "Getting play IDs...\n",
      "Successfully added play IDs. Outputting updated CSV file...\n",
      "Opening webpage for player ID 664062...\n",
      "\n"
     ]
    },
    {
     "name": "stderr",
     "output_type": "stream",
     "text": [
      "[WDM] - ====== WebDriver manager ======\n"
     ]
    },
    {
     "name": "stdout",
     "output_type": "stream",
     "text": [
      "2023-03-08 16:58:12,594 INFO ====== WebDriver manager ======\n"
     ]
    },
    {
     "name": "stderr",
     "output_type": "stream",
     "text": [
      "[WDM] - Current google-chrome version is 110.0.5481\n"
     ]
    },
    {
     "name": "stdout",
     "output_type": "stream",
     "text": [
      "2023-03-08 16:58:12,652 INFO Current google-chrome version is 110.0.5481\n"
     ]
    },
    {
     "name": "stderr",
     "output_type": "stream",
     "text": [
      "[WDM] - Get LATEST chromedriver version for 110.0.5481 google-chrome\n"
     ]
    },
    {
     "name": "stdout",
     "output_type": "stream",
     "text": [
      "2023-03-08 16:58:12,653 INFO Get LATEST chromedriver version for 110.0.5481 google-chrome\n"
     ]
    },
    {
     "name": "stderr",
     "output_type": "stream",
     "text": [
      "[WDM] - Driver [/Users/bgraham/.wdm/drivers/chromedriver/mac64/110.0.5481.77/chromedriver] found in cache\n"
     ]
    },
    {
     "name": "stdout",
     "output_type": "stream",
     "text": [
      "2023-03-08 16:58:12,780 INFO Driver [/Users/bgraham/.wdm/drivers/chromedriver/mac64/110.0.5481.77/chromedriver] found in cache\n",
      "Downloading tabular file...\n",
      "Getting play IDs...\n",
      "Successfully added play IDs. Outputting updated CSV file...\n",
      "Opening webpage for player ID 542881...\n",
      "\n"
     ]
    },
    {
     "name": "stderr",
     "output_type": "stream",
     "text": [
      "[WDM] - ====== WebDriver manager ======\n"
     ]
    },
    {
     "name": "stdout",
     "output_type": "stream",
     "text": [
      "2023-03-08 16:58:51,897 INFO ====== WebDriver manager ======\n"
     ]
    },
    {
     "name": "stderr",
     "output_type": "stream",
     "text": [
      "[WDM] - Current google-chrome version is 110.0.5481\n"
     ]
    },
    {
     "name": "stdout",
     "output_type": "stream",
     "text": [
      "2023-03-08 16:58:51,952 INFO Current google-chrome version is 110.0.5481\n"
     ]
    },
    {
     "name": "stderr",
     "output_type": "stream",
     "text": [
      "[WDM] - Get LATEST chromedriver version for 110.0.5481 google-chrome\n"
     ]
    },
    {
     "name": "stdout",
     "output_type": "stream",
     "text": [
      "2023-03-08 16:58:51,953 INFO Get LATEST chromedriver version for 110.0.5481 google-chrome\n"
     ]
    },
    {
     "name": "stderr",
     "output_type": "stream",
     "text": [
      "[WDM] - Driver [/Users/bgraham/.wdm/drivers/chromedriver/mac64/110.0.5481.77/chromedriver] found in cache\n"
     ]
    },
    {
     "name": "stdout",
     "output_type": "stream",
     "text": [
      "2023-03-08 16:58:52,448 INFO Driver [/Users/bgraham/.wdm/drivers/chromedriver/mac64/110.0.5481.77/chromedriver] found in cache\n",
      "Downloading tabular file...\n",
      "Getting play IDs...\n",
      "Successfully added play IDs. Outputting updated CSV file...\n",
      "Opening webpage for player ID 669952...\n",
      "\n"
     ]
    },
    {
     "name": "stderr",
     "output_type": "stream",
     "text": [
      "[WDM] - ====== WebDriver manager ======\n"
     ]
    },
    {
     "name": "stdout",
     "output_type": "stream",
     "text": [
      "2023-03-08 16:59:32,572 INFO ====== WebDriver manager ======\n"
     ]
    },
    {
     "name": "stderr",
     "output_type": "stream",
     "text": [
      "[WDM] - Current google-chrome version is 110.0.5481\n"
     ]
    },
    {
     "name": "stdout",
     "output_type": "stream",
     "text": [
      "2023-03-08 16:59:32,632 INFO Current google-chrome version is 110.0.5481\n"
     ]
    },
    {
     "name": "stderr",
     "output_type": "stream",
     "text": [
      "[WDM] - Get LATEST chromedriver version for 110.0.5481 google-chrome\n"
     ]
    },
    {
     "name": "stdout",
     "output_type": "stream",
     "text": [
      "2023-03-08 16:59:32,633 INFO Get LATEST chromedriver version for 110.0.5481 google-chrome\n"
     ]
    },
    {
     "name": "stderr",
     "output_type": "stream",
     "text": [
      "[WDM] - Driver [/Users/bgraham/.wdm/drivers/chromedriver/mac64/110.0.5481.77/chromedriver] found in cache\n"
     ]
    },
    {
     "name": "stdout",
     "output_type": "stream",
     "text": [
      "2023-03-08 16:59:32,819 INFO Driver [/Users/bgraham/.wdm/drivers/chromedriver/mac64/110.0.5481.77/chromedriver] found in cache\n",
      "Downloading tabular file...\n",
      "Getting play IDs...\n",
      "Successfully added play IDs. Outputting updated CSV file...\n",
      "Opening webpage for player ID 607192...\n",
      "\n"
     ]
    },
    {
     "name": "stderr",
     "output_type": "stream",
     "text": [
      "[WDM] - ====== WebDriver manager ======\n"
     ]
    },
    {
     "name": "stdout",
     "output_type": "stream",
     "text": [
      "2023-03-08 17:00:12,538 INFO ====== WebDriver manager ======\n"
     ]
    },
    {
     "name": "stderr",
     "output_type": "stream",
     "text": [
      "[WDM] - Current google-chrome version is 110.0.5481\n"
     ]
    },
    {
     "name": "stdout",
     "output_type": "stream",
     "text": [
      "2023-03-08 17:00:12,595 INFO Current google-chrome version is 110.0.5481\n"
     ]
    },
    {
     "name": "stderr",
     "output_type": "stream",
     "text": [
      "[WDM] - Get LATEST chromedriver version for 110.0.5481 google-chrome\n"
     ]
    },
    {
     "name": "stdout",
     "output_type": "stream",
     "text": [
      "2023-03-08 17:00:12,596 INFO Get LATEST chromedriver version for 110.0.5481 google-chrome\n"
     ]
    },
    {
     "name": "stderr",
     "output_type": "stream",
     "text": [
      "[WDM] - Driver [/Users/bgraham/.wdm/drivers/chromedriver/mac64/110.0.5481.77/chromedriver] found in cache\n"
     ]
    },
    {
     "name": "stdout",
     "output_type": "stream",
     "text": [
      "2023-03-08 17:00:12,825 INFO Driver [/Users/bgraham/.wdm/drivers/chromedriver/mac64/110.0.5481.77/chromedriver] found in cache\n",
      "Downloading tabular file...\n",
      "Getting play IDs...\n",
      "Successfully added play IDs. Outputting updated CSV file...\n"
     ]
    }
   ],
   "source": [
    "output_dir = f\"{os.getcwd()}/../data/tabular-data\"\n",
    "\n",
    "# Scrape play IDs and downloadable video URLs for each of the desired pitchers\n",
    "for player in list(player_info_dict.keys()):\n",
    "    \n",
    "    # Get parameters for tabular download\n",
    "    player_id = player_info_dict[player][\"player_id\"]\n",
    "    season = player_info_dict[player][\"season\"]\n",
    "    runners_on_base = player_info_dict[player][\"runners_on_base\"]\n",
    "\n",
    "    # Get savant URLs\n",
    "    get_savant_tabular_data(player_id, season, runners_on_base, output_dir)\n",
    "    "
   ]
  },
  {
   "cell_type": "code",
   "execution_count": 4,
   "id": "1f86518b",
   "metadata": {},
   "outputs": [],
   "source": [
    "# Merge tabular files\n",
    "file_dir = f\"{os.getcwd()}/../data/tabular-data\"\n",
    "tabular_files = [f\"{file_dir}/{file}\" for file in os.listdir(file_dir) if \".csv\" in file]\n",
    "combined_df = pd.concat([pd.read_csv(f, index_col=False) for f in tabular_files])\n",
    "combined_df.to_csv(f\"{file_dir}/tabular-data.concat.csv\", index=False)"
   ]
  }
 ],
 "metadata": {
  "kernelspec": {
   "display_name": "Python 3",
   "language": "python",
   "name": "python3"
  },
  "language_info": {
   "codemirror_mode": {
    "name": "ipython",
    "version": 3
   },
   "file_extension": ".py",
   "mimetype": "text/x-python",
   "name": "python",
   "nbconvert_exporter": "python",
   "pygments_lexer": "ipython3",
   "version": "3.8.8"
  }
 },
 "nbformat": 4,
 "nbformat_minor": 5
}
