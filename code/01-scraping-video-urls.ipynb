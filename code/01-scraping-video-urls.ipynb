{
 "cells": [
  {
   "cell_type": "code",
   "execution_count": null,
   "id": "39efb1d7",
   "metadata": {},
   "outputs": [],
   "source": [
    "import os\n",
    "from utils.video_scraping import get_savant_video_urls, get_video_link\n",
    "import json"
   ]
  },
  {
   "cell_type": "markdown",
   "id": "baf88c65",
   "metadata": {},
   "source": [
    "# Background\n",
    "\n",
    "In this notebook we webscrape pitching video URLs from baseball savant. URLs are scraped for six pitchers (shown below) and stored in a dictionary that is outputted as a json file. These URLs can easily be used to download the corresponding videos. The plan is to transfer the output json file to Google Colab where we can use the Detectron2/OpenCV/OpenPose pipeline to extract useful data from videos, one video at a time."
   ]
  },
  {
   "cell_type": "code",
   "execution_count": null,
   "id": "0f33cf90",
   "metadata": {},
   "outputs": [],
   "source": [
    "# Use this dictionary if we are re-running this script - store baseballsavant play id\n",
    "player_info = {\n",
    "    \"Clayton Kershaw\": {\"player_id\": \"477132\", \"season\": 2019, \"runners_on_base\": True, \"play_ids\": [], \"video_urls\": []}, \n",
    "    \"Walker Buehler\": {\"player_id\": \"621111\", \"season\": 2021, \"runners_on_base\": True, \"play_ids\": [], \"video_urls\": []}, \n",
    "    \"Tony Gonsolin\": {\"player_id\": \"664062\", \"season\": 2022, \"runners_on_base\": True, \"play_ids\": [], \"video_urls\": []}, \n",
    "    \"Mitch White\": {\"player_id\": \"669952\", \"season\": 2022, \"runners_on_base\": True, \"play_ids\": [], \"video_urls\": []}, \n",
    "    \"Tyler Glasnow\": {\"player_id\": \"607192\", \"season\": 2019, \"runners_on_base\": False, \"play_ids\": [], \"video_urls\": []}}\n"
   ]
  },
  {
   "cell_type": "code",
   "execution_count": null,
   "id": "e7541ce6",
   "metadata": {},
   "outputs": [],
   "source": [
    "# Scrape play IDs and downloadable video URLs for each of the desired pitchers\n",
    "for player in list(player_info.keys()):\n",
    "    \n",
    "    if not player_info[player][\"video_urls\"]:\n",
    "    \n",
    "        # Get mp4 URLs for desired pitcher\n",
    "        player_id = player_info[player][\"player_id\"]\n",
    "        season = player_info[player][\"season\"]\n",
    "        runners_on_base = player_info[player][\"runners_on_base\"]\n",
    "        print(f\"Getting video urls for {player}'s {season} season...\")\n",
    "\n",
    "        # Get savant URLs\n",
    "        savant_urls = get_savant_video_urls(player_id=player_id, season=season, runners_on_base=runners_on_base)\n",
    "        print(f\"{len(savant_urls)} found...\")\n",
    "        \n",
    "        # Store savant play ids\n",
    "        play_ids = [url.split(\"playId=\")[-1] for url in savant_urls]\n",
    "        player_info[player][\"play_ids\"] = play_ids\n",
    "        \n",
    "        # Collect \n",
    "        downloadable_urls = []\n",
    "        for i, url in enumerate(savant_urls, 1):\n",
    "            downloadable = get_video_link(url)\n",
    "            downloadable_urls.append(downloadable)\n",
    "            if not i % 10:\n",
    "                print(f'URL {i}/{len(savant_urls)} extracted...')\n",
    "\n",
    "        # Save downloadable URLs in dictionary\n",
    "        player_info[player][\"video_urls\"] = downloadable_urls\n",
    "        \n",
    "    else:\n",
    "        continue\n",
    "        "
   ]
  },
  {
   "cell_type": "code",
   "execution_count": null,
   "id": "69810664",
   "metadata": {},
   "outputs": [],
   "source": [
    "# Output json file to store dictionary\n",
    "with open('../data/video-url-json/NNextPitchURLs.json', 'w') as f:\n",
    "    json.dump(player_info, f)"
   ]
  }
 ],
 "metadata": {
  "kernelspec": {
   "display_name": "Python 3",
   "language": "python",
   "name": "python3"
  },
  "language_info": {
   "codemirror_mode": {
    "name": "ipython",
    "version": 3
   },
   "file_extension": ".py",
   "mimetype": "text/x-python",
   "name": "python",
   "nbconvert_exporter": "python",
   "pygments_lexer": "ipython3",
   "version": "3.8.8"
  }
 },
 "nbformat": 4,
 "nbformat_minor": 5
}
